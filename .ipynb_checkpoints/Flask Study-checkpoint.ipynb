{
 "cells": [
  {
   "cell_type": "markdown",
   "metadata": {},
   "source": [
    "## Flask 스터디 자료"
   ]
  },
  {
   "cell_type": "markdown",
   "metadata": {},
   "source": [
    "### Flask란? "
   ]
  },
  {
   "cell_type": "markdown",
   "metadata": {},
   "source": [
    "<img src=\"ex_2.png\" align=\"left\" width=\"300\">\n",
    "<img src=\"ex_1.png\" align=\"left\" width=\"300\">\n",
    "<img src=\"ex_3.png\" align=\"left\" width=\"300\">"
   ]
  },
  {
   "cell_type": "markdown",
   "metadata": {},
   "source": [
    "* 플라스크는 파이썬 기반의 마이크로 웹 프레임워크이다.\n",
    "* '마이크로'는 작다는 의미가 아니다. 웹 애플리케이션이 하나의 파이썬 파일로 개발해야된다는 걸 말하는 것도 아니며, 기능적으로 부족하다는 것을 의미하지도 않는다.\n",
    "* 플라스크는 확장 가능하도록 구현되어 있다. "
   ]
  },
  {
   "cell_type": "markdown",
   "metadata": {},
   "source": [
    "### 필요한 Skill\n",
    "* Python 프로그래밍\n",
    "* Flask, Jinja\n",
    "* 웹프로그래밍 : HTML, CSS, Bootstrap, wtf(웹폼)\n",
    "* 데이터 처리 : SQLite, mySQL, MongoDB 등\n",
    "* 디자인 감각, 컨텐츠 기획 \n",
    "\n",
    "### 목차\n",
    "1. Quick Start\n",
    "2. HTML로 작업하기 : jinja2, wtf(웹폼), CSS, Bootstrp\n",
    "3. Sql로 데이터베이스 구축하기 : SQLAlchemy"
   ]
  },
  {
   "cell_type": "markdown",
   "metadata": {},
   "source": [
    "### 레퍼런스\n",
    "* Flask 공식 사이트 : http://flask.pocoo.org/docs/0.12/quickstart/#a-minimal-application\n",
    "* jinja2 공식 사이트 : http://flask.pocoo.org/docs/1.0/templating/\n",
    "* wtf : https://flask-wtf.readthedocs.io/en/stable/quickstart.html\n",
    "* Bootstrap 공식 사이트 : https://getbootstrap.com/docs/3.3/getting-started\n",
    "* SQLAlchemy : http://flask-sqlalchemy.pocoo.org/2.3/  \n",
    "http://docs.sqlalchemy.org/en/latest/orm/index.html\n",
    "* 부스트랩 사용예시 블로그 : https://pythonspot.com/flask-web-forms/\n",
    "* HTML, CSS, Bootstrap 교육 사이트 : https://www.w3schools.com/\n",
    "* 책 : 플라스크 웹 개발, 미구엘 그린버그 저\n",
    "* <img src=\"flask_book.png\" align=\"left\">"
   ]
  },
  {
   "cell_type": "markdown",
   "metadata": {},
   "source": [
    "---\n",
    "### 1. Quick Start\n",
    "---"
   ]
  },
  {
   "cell_type": "markdown",
   "metadata": {},
   "source": [
    "### 기초 라이브러리 세팅"
   ]
  },
  {
   "cell_type": "code",
   "execution_count": null,
   "metadata": {},
   "outputs": [],
   "source": [
    "!pip install flask\n",
    "!pip install flask-wtf         # 웹 폼\n",
    "!pip install flask-bootstrap   # 트위터 부스트랩(CSS 템플릿)\n",
    "!pip install flask-sqlalchemy  # SQL Alchemy(데이터 관리)"
   ]
  },
  {
   "cell_type": "code",
   "execution_count": null,
   "metadata": {},
   "outputs": [],
   "source": [
    "# 간단한 플라스크 웹 페이지를 띄워보자! hello.py\n",
    "from flask import Flask\n",
    "app = Flask(__name__)\n",
    "\n",
    "@app.route('/')\n",
    "def hello_world():\n",
    "    return 'Hello, World!'\n",
    "\n",
    "if __name__ == \"__main__\":\n",
    "    app.run()"
   ]
  },
  {
   "cell_type": "markdown",
   "metadata": {},
   "source": [
    "### [중요] 서버 띄우기\n",
    "1. 로컬서버 : python hello.py \n",
    "2. 외부서버 : \n",
    "   * export FLASK_APP=hello.py  # 윈도우는 export 대신 set을 쓴다\n",
    "   * flask run --host=0.0.0.0"
   ]
  },
  {
   "cell_type": "markdown",
   "metadata": {},
   "source": [
    "### [중요] 웹 페이지 호출하기\n",
    "1. 로컬서버 : http://localhost:5000/ 또는 http://127.0.0.1:5000/ 으로 접속. https가 아닌 http에 유의할 것\n",
    "2. 외부서버 : 해당 IP로 접속"
   ]
  },
  {
   "cell_type": "code",
   "execution_count": null,
   "metadata": {},
   "outputs": [],
   "source": [
    "# 라우팅으로 덜 간단한 플라스크 웹 페이지를 띄워보자! hello_route.py\n",
    "from flask import Flask\n",
    "app = Flask(__name__)\n",
    "\n",
    "@app.route('/')\n",
    "def hello_world():\n",
    "    return 'Hello, World!'\n",
    "\n",
    "@app.route('/user/<username>')\n",
    "def show_user_profile(username):\n",
    "    # show the user profile for that user\n",
    "    return 'User %s' % username\n",
    "\n",
    "@app.route('/post/<int:post_id>')\n",
    "def show_post(post_id):\n",
    "    # show the post with the given id, the id is an integer\n",
    "    return 'Post %d' % post_id\n",
    "\n",
    "if __name__ == \"__main__\":\n",
    "    app.run()"
   ]
  },
  {
   "cell_type": "code",
   "execution_count": null,
   "metadata": {},
   "outputs": [],
   "source": [
    "# 라우팅으로 로그인 웹 페이지를 띄워보자! login_test.py\n",
    "from flask import Flask, session, redirect, url_for, escape, request\n",
    "\n",
    "app = Flask(__name__)\n",
    "\n",
    "@app.route('/')\n",
    "def index():\n",
    "    if 'username' in session:\n",
    "        return 'Logged in as %s' % escape(session['username'])\n",
    "    return 'You are not logged in'\n",
    "\n",
    "@app.route('/login', methods=['GET', 'POST'])\n",
    "def login():\n",
    "    if request.method == 'POST':\n",
    "        session['username'] = request.form['username']\n",
    "        return redirect(url_for('index'))\n",
    "    return '''\n",
    "        <form method=\"post\">\n",
    "            <p><input type=text name=username>\n",
    "            <p><input type=submit value=Login>\n",
    "        </form>\n",
    "    '''\n",
    "\n",
    "@app.route('/logout')\n",
    "def logout():\n",
    "    # remove the username from the session if it's there\n",
    "    session.pop('username', None)\n",
    "    return redirect(url_for('index'))\n",
    "\n",
    "# set the secret key.  keep this really secret:\n",
    "app.secret_key = 'A0Zr98j/3yX R~XHH!jmN]LWX/,?RT'\n",
    "    \n",
    "    \n",
    "if __name__ == \"__main__\":\n",
    "    app.run()    "
   ]
  },
  {
   "cell_type": "markdown",
   "metadata": {},
   "source": [
    "---\n",
    "### 2. HTML\n",
    "---"
   ]
  },
  {
   "cell_type": "markdown",
   "metadata": {},
   "source": [
    "### HTML을 띄운다! render_tempalte"
   ]
  },
  {
   "cell_type": "code",
   "execution_count": null,
   "metadata": {},
   "outputs": [],
   "source": [
    "### [중요] HTML파일은 templates라는 서브 폴더안에 몰아서 넣을 것~!!!\n",
    "/application.py\n",
    "/templates\n",
    "    /hello.html"
   ]
  },
  {
   "cell_type": "code",
   "execution_count": null,
   "metadata": {},
   "outputs": [],
   "source": [
    "# 웹 페이지를 띄워보자! render.py\n",
    "from flask import render_template\n",
    "\n",
    "@app.route('/hello/')\n",
    "@app.route('/hello/<name>')\n",
    "def hello(name=None):\n",
    "    return render_template('hello.html', name=name)\n",
    "\n",
    "if __name__ == \"__main__\":\n",
    "    app.run()    "
   ]
  },
  {
   "cell_type": "code",
   "execution_count": null,
   "metadata": {},
   "outputs": [],
   "source": [
    "# hello.html 코드\n",
    "# {{ }}, {% %} => jinja2 문법으로,\n",
    "# 파이썬에서 다양한 형식의 데이터를 받아 프로그래밍 코드 처리가 된 HTML을 생성한다. \n",
    "<!doctype html>\n",
    "\n",
    "<title>Hello from Flask</title>\n",
    "{% if name %}\n",
    "  <h1>Hello {{ name }}!</h1>   \n",
    "{% else %}\n",
    "  <h1>Hello, World!</h1>\n",
    "{% endif %}"
   ]
  },
  {
   "cell_type": "markdown",
   "metadata": {},
   "source": [
    "### Web Form "
   ]
  },
  {
   "cell_type": "code",
   "execution_count": null,
   "metadata": {},
   "outputs": [],
   "source": [
    "# 웹 폼을 만들어 입력값을 띄워보자 webform.py\n",
    "from flask import Flask, render_template, flash, request\n",
    "from wtforms import Form, TextField, TextAreaField, validators, StringField, SubmitField\n",
    " \n",
    "# App config.\n",
    "DEBUG = True\n",
    "app = Flask(__name__)\n",
    "app.config.from_object(__name__)\n",
    "app.config['SECRET_KEY'] = '7d441f27d441f27567d441f2b6176a'\n",
    " \n",
    "class ReusableForm(Form):\n",
    "    name = TextField('Name:', validators=[validators.required()])\n",
    " \n",
    " \n",
    "@app.route(\"/\", methods=['GET', 'POST'])\n",
    "def hello():\n",
    "    form = ReusableForm(request.form)\n",
    " \n",
    "    print (form.errors)\n",
    "    if request.method == 'POST':\n",
    "        name=request.form['name']\n",
    "        print (name)\n",
    " \n",
    "        if form.validate():\n",
    "            # Save the comment here.\n",
    "            flash('Hello ' + name)\n",
    "        else:\n",
    "            flash('All the form fields are required. ')\n",
    " \n",
    "    return render_template('webform.html', form=form)\n",
    " \n",
    "if __name__ == \"__main__\":\n",
    "    app.run()"
   ]
  },
  {
   "cell_type": "code",
   "execution_count": null,
   "metadata": {},
   "outputs": [],
   "source": [
    "# webform.html 파일\n",
    "<!DOCTYPE html PUBLIC \"-//W3C//DTD XHTML 1.0 Strict//EN\" \"http://www.w3.org/TR/xhtml1/DTD/xhtml1-strict.dtd\">\n",
    "<html>\n",
    "    <head>\n",
    "        <title>Reusable Form Demo</title>\n",
    "    </head>\n",
    "    <body>\n",
    "        {% with messages = get_flashed_messages(with_categories=true) %}\n",
    "            {% if messages %}\n",
    "                <ul>\n",
    "                    {% for message in messages %}\n",
    "                        <li>{{ message[1] }}</li>\n",
    "                    {% endfor %}\n",
    "                </ul>\n",
    "            {% endif %}\n",
    "        {% endwith %}\n",
    "        <form action=\"\" method=\"post\">\n",
    "            {{ form.csrf }}\n",
    " \n",
    "            <div class=\"input text\">\n",
    "                {{ form.name.label }} {{ form.name }}\n",
    "            </div>\n",
    " \n",
    "            <div class=\"input submit\">\n",
    "                <input type=\"submit\" value=\"Submit\" />\n",
    "            </div>\n",
    "        </form>\n",
    "    </body>\n",
    "</html>"
   ]
  },
  {
   "cell_type": "markdown",
   "metadata": {},
   "source": [
    "### Bootstrap"
   ]
  },
  {
   "cell_type": "code",
   "execution_count": null,
   "metadata": {},
   "outputs": [],
   "source": [
    "from flask import Flask, render_template, flash, request\n",
    "from wtforms import Form, TextField, TextAreaField, validators, StringField, SubmitField\n",
    " \n",
    "from flask_bootstrap import Bootstrap   # 부스트랩, 트위터 오픈소스 \n",
    " \n",
    "# App config.\n",
    "DEBUG = True\n",
    "app = Flask(__name__)\n",
    "app.config.from_object(__name__)\n",
    "app.config['SECRET_KEY'] = '7d441f27d441f27567d441f2b6176a'\n",
    " \n",
    "Bootstrap(app)            # 부스트랩 적용\n",
    " \n",
    " \n",
    " \n",
    "class ReusableForm(Form):\n",
    "    name = TextField('Name:', validators=[validators.required()])\n",
    "    email = TextField('Email:', validators=[validators.required(), validators.Length(min=6, max=35)])\n",
    "    password = TextField('Password:', validators=[validators.required(), validators.Length(min=3, max=35)])\n",
    " \n",
    " \n",
    "@app.route(\"/\", methods=['GET', 'POST'])\n",
    "def hello():\n",
    "    form = ReusableForm(request.form)\n",
    " \n",
    "    print (form.errors)\n",
    "    if request.method == 'POST':\n",
    "        name=request.form['name']\n",
    "        password=request.form['password']\n",
    "        email=request.form['email']\n",
    "        print (name, \" \", email, \" \", password)\n",
    " \n",
    "        if form.validate():\n",
    "            # Save the comment here.\n",
    "            flash('Thanks for registration ' + name)\n",
    "        else:\n",
    "            flash('Error: All the form fields are required. ')\n",
    " \n",
    "    return render_template('webform_boot.html', form=form)\n",
    " \n",
    "if __name__ == \"__main__\":\n",
    "    app.run()"
   ]
  },
  {
   "cell_type": "code",
   "execution_count": null,
   "metadata": {},
   "outputs": [],
   "source": [
    "# 부스트랩으로 이쁘게 만든다. \n",
    "{% extends \"bootstrap/base.html\" %}\n",
    "\n",
    "{% block title %}This is an example page{% endblock %}\n",
    "\n",
    "{% block content %}\n",
    "\n",
    "\n",
    "<div class=\"container\">\n",
    " \n",
    "  <h2>Flask Web Form</h2>\n",
    "  <form  action=\"\" method=\"post\" role=\"form\">\n",
    "    {{ form.csrf }}\n",
    "    <div class=\"form-group\">\n",
    "      <label for=\"name\">Name:</label>\n",
    "      <input type=\"text\" class=\"form-control\" id=\"name\" name=\"name\" placeholder=\"What's your name?\">\n",
    "      <br>\n",
    "      <label for=\"email\">Email:</label>\n",
    "      <input type=\"text\" class=\"form-control\" id=\"email\" name=\"email\" placeholder=\"Your email will be used to contact you.\">\n",
    "      <br>\n",
    "      <label for=\"password\">Password:</label>\n",
    "      <input type=\"password\" class=\"form-control\" id=\"password\" name=\"password\" placeholder=\"Enter a password.\">\n",
    " \n",
    " \n",
    "    </div>\n",
    "    <button type=\"submit\" class=\"btn btn-success\">Sign Up</button>\n",
    "  </form>\n",
    " \n",
    "  <br>\n",
    "        {% with messages = get_flashed_messages(with_categories=true) %}\n",
    "            {% if messages %}\n",
    " \n",
    "        {% for message in messages %}\n",
    "            {% if \"Error\" not in message[1]: %}\n",
    "                <div class=\"alert alert-info\">\n",
    "                <strong>Success! </strong> {{ message[1] }}\n",
    "                </div>\n",
    "            {% endif %}\n",
    " \n",
    "            {% if \"Error\" in message[1]: %}\n",
    "                <div class=\"alert alert-warning\">\n",
    "                {{ message[1] }}\n",
    "                </div>\n",
    "            {% endif %}\n",
    "        {% endfor %}\n",
    "            {% endif %}\n",
    "        {% endwith %}\n",
    " \n",
    "</div>\n",
    "<br>            \n",
    "</div>\n",
    "</div>\n",
    "\t\n",
    "\t\n",
    "{% endblock %}"
   ]
  },
  {
   "cell_type": "markdown",
   "metadata": {},
   "source": [
    "---\n",
    "### 3. SQL : SQLAlchemy\n",
    "---"
   ]
  },
  {
   "cell_type": "code",
   "execution_count": null,
   "metadata": {},
   "outputs": [],
   "source": [
    "# SQL Alchemy \n",
    "from flask import Flask, render_template\n",
    "from flask_bootstrap import Bootstrap   # 부스트랩, 트위터 오픈소스 \n",
    "\n",
    "from flask_sqlalchemy import SQLAlchemy  # SQL Alchemy\n",
    "import sqlite3                           # SQLite나 MySQL 등 데이터베이스 불러오기\n",
    "\n",
    "\n",
    "\n",
    "app = Flask(__name__)\n",
    "app.config['SQLALCHEMY_DATABASE_URI'] = 'sqlite:///:memory:'  # 인메모리 저장\n",
    "db = SQLAlchemy(app)\n",
    "\n",
    "Bootstrap(app)            \n",
    "\n",
    "# 데이터베이스 모델 정의\n",
    "class User(db.Model):\n",
    "    id = db.Column(db.Integer, primary_key=True)\n",
    "    username = db.Column(db.String(80), unique=True, nullable=False)\n",
    "    email = db.Column(db.String(120), unique=True, nullable=False)\n",
    "\n",
    "    def __repr__(self):\n",
    "        return '<User %r>' % self.username\n",
    "    \n",
    "\n",
    "db.create_all()\t\t# 테이블 없으면 초기화하고, 기존 테이블 있는 경우 접속한다. \n",
    "# db.drop_all()\t\t# 전체 테이블 삭제 \n",
    "\n",
    "# 테스트 데이터 #1\n",
    "admin = User(username='admin', email='admin@example.com')\n",
    "db.session.add(admin)\n",
    "db.session.commit()\n",
    "\n",
    "# 테스트 데이터 #2\n",
    "guest = User(username='guest', email='guest@example.com')\n",
    "db.session.add(guest)\n",
    "db.session.commit()\n",
    "\n",
    "print('-'*50)\n",
    "print(\"쿼리 예시(전체)\\n \", User.query.all())\n",
    "print(\"쿼리 예시(첫번째)\\n \", User.query.filter_by(username='admin').first())\n",
    "print('-'*50)\n",
    "\n",
    "# 웹 페이지 라우팅 \n",
    "@app.route('/sql')\n",
    "def sql():\n",
    "    return render_template(\"sql.html\", \n",
    "                           res=User.query.order_by(User.id.desc()).all())   # ID 역순으로 데이터를 보낸다.\n",
    "    \n",
    "    \n",
    "if __name__ == \"__main__\":\n",
    "    app.run()    "
   ]
  },
  {
   "cell_type": "code",
   "execution_count": null,
   "metadata": {},
   "outputs": [],
   "source": [
    "# sql HTML\n",
    "{% extends \"bootstrap/base.html\" %}\n",
    "\n",
    "{% block title %}This is an example page{% endblock %}\n",
    "\n",
    "{% block content %}\n",
    "\n",
    "\t<div class=\"container\"> \n",
    "\t  {% for r in res %}\n",
    "\t\t<p>{{ r.id }}</p>   \n",
    "\t\t<p>{{ r.username }}</p>   \n",
    "\t\t<p>{{ r.email }}</p>   \n",
    "\t  {% endfor %}\n",
    "\t</div>  \n",
    "\n",
    "{% endblock %}"
   ]
  },
  {
   "cell_type": "code",
   "execution_count": null,
   "metadata": {},
   "outputs": [],
   "source": []
  }
 ],
 "metadata": {
  "kernelspec": {
   "display_name": "Python 3",
   "language": "python",
   "name": "python3"
  },
  "language_info": {
   "codemirror_mode": {
    "name": "ipython",
    "version": 3
   },
   "file_extension": ".py",
   "mimetype": "text/x-python",
   "name": "python",
   "nbconvert_exporter": "python",
   "pygments_lexer": "ipython3",
   "version": "3.6.4"
  }
 },
 "nbformat": 4,
 "nbformat_minor": 2
}
